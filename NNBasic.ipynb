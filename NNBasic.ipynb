{
 "cells": [
  {
   "cell_type": "code",
   "execution_count": 1,
   "metadata": {},
   "outputs": [
    {
     "data": {
      "text/plain": [
       "tensor([[-0.1592,  0.0203, -0.1882, -0.0960, -0.2649, -0.0674,  0.1864, -0.1579,\n",
       "         -0.0060, -0.1448],\n",
       "        [ 0.0060, -0.0228, -0.2075, -0.0914, -0.2686,  0.1084,  0.3367, -0.2451,\n",
       "         -0.0591, -0.1448]], grad_fn=<AddmmBackward0>)"
      ]
     },
     "execution_count": 1,
     "metadata": {},
     "output_type": "execute_result"
    }
   ],
   "source": [
    "import torch\n",
    "from torch import nn\n",
    "from torch.nn import functional as F\n",
    "\n",
    "net = nn.Sequential(nn.Linear(20 , 256) , nn.ReLU() , nn.Linear(256 , 10))\n",
    "\n",
    "# X是2 * 20的随机矩阵\n",
    "X = torch.rand(2 , 20)\n",
    "net(X)"
   ]
  },
  {
   "cell_type": "code",
   "execution_count": 4,
   "metadata": {},
   "outputs": [
    {
     "data": {
      "text/plain": [
       "tensor([[ 0.2399, -0.0213, -0.4069, -0.3182,  0.2159,  0.0288,  0.1762,  0.1809,\n",
       "         -0.1257,  0.1697],\n",
       "        [ 0.0759,  0.0049, -0.3592, -0.2639,  0.2239, -0.2036,  0.0915,  0.1316,\n",
       "         -0.2625,  0.3514]], grad_fn=<AddmmBackward0>)"
      ]
     },
     "execution_count": 4,
     "metadata": {},
     "output_type": "execute_result"
    }
   ],
   "source": [
    "class MLP(nn.Module):\n",
    "    def __init__(self):\n",
    "        super().__init__()\n",
    "        self.hidden = nn.Linear(20 , 256)\n",
    "        self.out = nn.Linear(256 , 10)\n",
    "    \n",
    "    def forward(self , X):\n",
    "        return self.out(F.relu(self.hidden(X)))\n",
    "    \n",
    "net = MLP()\n",
    "net(X)"
   ]
  }
 ],
 "metadata": {
  "kernelspec": {
   "display_name": "Python 3",
   "language": "python",
   "name": "python3"
  },
  "language_info": {
   "codemirror_mode": {
    "name": "ipython",
    "version": 3
   },
   "file_extension": ".py",
   "mimetype": "text/x-python",
   "name": "python",
   "nbconvert_exporter": "python",
   "pygments_lexer": "ipython3",
   "version": "3.7.6"
  },
  "orig_nbformat": 4
 },
 "nbformat": 4,
 "nbformat_minor": 2
}
