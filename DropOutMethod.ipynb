{
 "cells": [
  {
   "cell_type": "markdown",
   "metadata": {},
   "source": [
    "# Drop Out Method\n",
    "+ a good model should be robust to the disturb in input data.\n",
    "\n",
    "    + using dataset with noise equals Tikhonov Regular.  \n",
    "    \n",
    "    + drop out method adding noise between layers.\n",
    " "
   ]
  },
  {
   "cell_type": "markdown",
   "metadata": {},
   "source": [
    "+ adding noise indiscriminately.\n",
    "    \n",
    "    + add noise to **x** getting $\\bf{x}^\\prime$ , expecting\n",
    "        $$\\bf{E}[x^\\prime] = x$$\n",
    "\n",
    "    + drop out method interupt each element as follows\n",
    "        $$\n",
    "            x^\\prime_i = \n",
    "            \\begin{cases} \n",
    "                0 & \\text{with probablity p} \\\\ \n",
    "                \\frac{x_i}{1-p} &  \\text{otherwise}\n",
    "            \\end{cases}\n",
    "        $$"
   ]
  },
  {
   "cell_type": "markdown",
   "metadata": {},
   "source": [
    "+ drop out method usaully applies to output of hidden full connected layer.\n",
    "    $$\\bf{h} = \\sigma(W_1x + b_1)$$\n",
    "    $$\\bf{h}^\\prime = dropout(\\bf{h})$$\n",
    "    $$\\bf{o} = \\bf{W_2}h^\\prime + b_2$$\n",
    "    $$\\bf{y} = softmax(o)$$"
   ]
  },
  {
   "cell_type": "markdown",
   "metadata": {},
   "source": [
    "+ drop out in inference\n",
    "\n",
    "    + drop out method is only used in training model and it affects the update of parameters.\n",
    "\n",
    "    + in the process of in inference , drop out returns the input directly.\n",
    "\n",
    "+ summary\n",
    "\n",
    "    + drop out set some of the output  to zero to control the complexity of the model.\n",
    "\n",
    "    + it usually applies to the hidden layer of multi-proceptron.\n",
    "    \n",
    "    + the probability of drop is a hyper parameter to control the model."
   ]
  }
 ],
 "metadata": {
  "language_info": {
   "name": "python"
  },
  "orig_nbformat": 4
 },
 "nbformat": 4,
 "nbformat_minor": 2
}
