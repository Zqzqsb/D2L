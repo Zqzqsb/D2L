{
 "cells": [
  {
   "cell_type": "code",
   "execution_count": 3,
   "metadata": {},
   "outputs": [
    {
     "data": {
      "text/plain": [
       "[tensor([[ 0.1972, -0.2641],\n",
       "         [-1.1572,  2.4075],\n",
       "         [ 0.2814,  1.5809],\n",
       "         [ 0.6807, -1.5308],\n",
       "         [ 0.9179, -0.8849],\n",
       "         [-2.0840,  0.4315],\n",
       "         [-0.8562, -0.3887],\n",
       "         [-2.1106,  1.6431],\n",
       "         [ 0.6932, -0.1931],\n",
       "         [ 0.2049, -1.1516]]),\n",
       " tensor([[ 5.5059],\n",
       "         [-6.2978],\n",
       "         [-0.6227],\n",
       "         [10.7639],\n",
       "         [ 9.0514],\n",
       "         [-1.4412],\n",
       "         [ 3.8088],\n",
       "         [-5.6005],\n",
       "         [ 6.2479],\n",
       "         [ 8.5206]])]"
      ]
     },
     "execution_count": 3,
     "metadata": {},
     "output_type": "execute_result"
    }
   ],
   "source": [
    "# This chapter is aimed at implement linear regression with torch\n",
    "import numpy as np\n",
    "import torch\n",
    "from torch.utils import data\n",
    "from d2l import torch as d2l\n",
    "\n",
    "true_w = torch.tensor([2 , -3.4])\n",
    "true_b = 4.2\n",
    "features , labels = d2l.synthetic_data(true_w , true_b , 1000)\n",
    "\n",
    "def load_array(data_arrays , batch_size , is_train=True):\n",
    "    \"\"\"construct a pytorch data iterator\"\"\"\n",
    "    dataset = data.TensorDataset(*data_arrays)\n",
    "    return data.DataLoader(dataset , batch_size , shuffle=is_train)\n",
    "    \n",
    "batch_size = 10\n",
    "data_iter = load_array((features , labels) , batch_size)\n",
    "\n",
    "next(iter(data_iter))"
   ]
  },
  {
   "cell_type": "code",
   "execution_count": 15,
   "metadata": {},
   "outputs": [
    {
     "name": "stdout",
     "output_type": "stream",
     "text": [
      "epoch 1 , loss 0.000261\n",
      "epoch 2 , loss 0.000098\n",
      "epoch 3 , loss 0.000098\n"
     ]
    }
   ],
   "source": [
    "# nn reperesents for neural network\n",
    "from torch import nn\n",
    "\n",
    "# full connect layer with input demension 2 and output demension 1\n",
    "net = nn.Sequential(nn.Linear(2 , 1))\n",
    "\n",
    "# initialize model params\n",
    "# set mean value and variance for weight\n",
    "net[0].weight.data.normal_(0 , 0.01)\n",
    "# set bias\n",
    "net[0].bias.data.fill_(0)\n",
    "\n",
    "# caculate mean square error\n",
    "loss = nn.MSELoss()\n",
    "\n",
    "# create SGD instance\n",
    "trainer = torch.optim.SGD(net.parameters() , lr=0.03)\n",
    "\n",
    "num_epochs = 3\n",
    "for epoch in range(num_epochs):\n",
    "    for X , y in data_iter:\n",
    "        l = loss(net(X) , y)\n",
    "        trainer.zero_grad()\n",
    "        l.backward()\n",
    "        # update module \n",
    "        trainer.step()\n",
    "    l = loss(net(features) , labels)\n",
    "    print(f'epoch {epoch + 1} , loss {l:f}')"
   ]
  }
 ],
 "metadata": {
  "kernelspec": {
   "display_name": "Python 3.10.4 64-bit",
   "language": "python",
   "name": "python3"
  },
  "language_info": {
   "codemirror_mode": {
    "name": "ipython",
    "version": 3
   },
   "file_extension": ".py",
   "mimetype": "text/x-python",
   "name": "python",
   "nbconvert_exporter": "python",
   "pygments_lexer": "ipython3",
   "version": "3.10.4"
  },
  "orig_nbformat": 4,
  "vscode": {
   "interpreter": {
    "hash": "aee8b7b246df8f9039afb4144a1f6fd8d2ca17a180786b69acc140d282b71a49"
   }
  }
 },
 "nbformat": 4,
 "nbformat_minor": 2
}
