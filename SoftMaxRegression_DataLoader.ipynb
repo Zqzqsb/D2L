{
 "cells": [
  {
   "cell_type": "code",
   "execution_count": 1,
   "metadata": {},
   "outputs": [
    {
     "name": "stdout",
     "output_type": "stream",
     "text": [
      "Downloading http://fashion-mnist.s3-website.eu-central-1.amazonaws.com/train-images-idx3-ubyte.gz\n",
      "Failed to download (trying next):\n",
      "<urlopen error [Errno 8] nodename nor servname provided, or not known>\n",
      "\n"
     ]
    },
    {
     "ename": "RuntimeError",
     "evalue": "Error downloading train-images-idx3-ubyte.gz",
     "output_type": "error",
     "traceback": [
      "\u001b[0;31m---------------------------------------------------------------------------\u001b[0m",
      "\u001b[0;31mRuntimeError\u001b[0m                              Traceback (most recent call last)",
      "Cell \u001b[0;32mIn[1], line 18\u001b[0m\n\u001b[1;32m     14\u001b[0m trans \u001b[39m=\u001b[39m transforms\u001b[39m.\u001b[39mToTensor()\n\u001b[1;32m     16\u001b[0m \u001b[39m# download the dataset from torch to local directory data\u001b[39;00m\n\u001b[1;32m     17\u001b[0m \u001b[39m# with the transformer defined above\u001b[39;00m\n\u001b[0;32m---> 18\u001b[0m mnist_train \u001b[39m=\u001b[39m torchvision\u001b[39m.\u001b[39;49mdatasets\u001b[39m.\u001b[39;49mFashionMNIST(root\u001b[39m=\u001b[39;49m\u001b[39m'\u001b[39;49m\u001b[39m./data/SoftMaxRegression/train/\u001b[39;49m\u001b[39m'\u001b[39;49m , train\u001b[39m=\u001b[39;49m\u001b[39mTrue\u001b[39;49;00m , transform\u001b[39m=\u001b[39;49mtrans , download\u001b[39m=\u001b[39;49m\u001b[39mTrue\u001b[39;49;00m)\n\u001b[1;32m     20\u001b[0m mnist_test \u001b[39m=\u001b[39m torchvision\u001b[39m.\u001b[39mdatasets\u001b[39m.\u001b[39mFashionMNIST(root\u001b[39m=\u001b[39m\u001b[39m'\u001b[39m\u001b[39m./data/SoftMaxRegression/test/\u001b[39m\u001b[39m'\u001b[39m , train\u001b[39m=\u001b[39m\u001b[39mFalse\u001b[39;00m , transform\u001b[39m=\u001b[39mtrans , download\u001b[39m=\u001b[39m\u001b[39mTrue\u001b[39;00m) \n\u001b[1;32m     22\u001b[0m \u001b[39mlen\u001b[39m(mnist_train) , \u001b[39mlen\u001b[39m(mnist_test)\n",
      "File \u001b[0;32m~/Library/Python/3.10/lib/python/site-packages/torchvision/datasets/mnist.py:99\u001b[0m, in \u001b[0;36mMNIST.__init__\u001b[0;34m(self, root, train, transform, target_transform, download)\u001b[0m\n\u001b[1;32m     96\u001b[0m     \u001b[39mreturn\u001b[39;00m\n\u001b[1;32m     98\u001b[0m \u001b[39mif\u001b[39;00m download:\n\u001b[0;32m---> 99\u001b[0m     \u001b[39mself\u001b[39;49m\u001b[39m.\u001b[39;49mdownload()\n\u001b[1;32m    101\u001b[0m \u001b[39mif\u001b[39;00m \u001b[39mnot\u001b[39;00m \u001b[39mself\u001b[39m\u001b[39m.\u001b[39m_check_exists():\n\u001b[1;32m    102\u001b[0m     \u001b[39mraise\u001b[39;00m \u001b[39mRuntimeError\u001b[39;00m(\u001b[39m\"\u001b[39m\u001b[39mDataset not found. You can use download=True to download it\u001b[39m\u001b[39m\"\u001b[39m)\n",
      "File \u001b[0;32m~/Library/Python/3.10/lib/python/site-packages/torchvision/datasets/mnist.py:195\u001b[0m, in \u001b[0;36mMNIST.download\u001b[0;34m(self)\u001b[0m\n\u001b[1;32m    193\u001b[0m     \u001b[39mbreak\u001b[39;00m\n\u001b[1;32m    194\u001b[0m \u001b[39melse\u001b[39;00m:\n\u001b[0;32m--> 195\u001b[0m     \u001b[39mraise\u001b[39;00m \u001b[39mRuntimeError\u001b[39;00m(\u001b[39mf\u001b[39m\u001b[39m\"\u001b[39m\u001b[39mError downloading \u001b[39m\u001b[39m{\u001b[39;00mfilename\u001b[39m}\u001b[39;00m\u001b[39m\"\u001b[39m)\n",
      "\u001b[0;31mRuntimeError\u001b[0m: Error downloading train-images-idx3-ubyte.gz"
     ]
    }
   ],
   "source": [
    "# Read a Picture dataset\n",
    "%matplotlib inline\n",
    "import torch\n",
    "import torchvision\n",
    "from torch.utils import data\n",
    "from torchvision import transforms\n",
    "from d2l import torch as d2l\n",
    "\n",
    "# set the display format as svg\n",
    "# d2l.use_svg_display()\n",
    "\n",
    "# convert the image from PIL format to float32 format\n",
    "# Normalize the RGB value from 0-255 to 0-1\n",
    "trans = transforms.ToTensor()\n",
    "\n",
    "# download the dataset from torch to local directory data\n",
    "# with the transformer defined above\n",
    "mnist_train = torchvision.datasets.FashionMNIST(root='./data/SoftMaxRegression/train/' , train=True , transform=trans , download=True)\n",
    "\n",
    "mnist_test = torchvision.datasets.FashionMNIST(root='./data/SoftMaxRegression/test/' , train=False , transform=trans , download=True) \n",
    "\n",
    "len(mnist_train) , len(mnist_test)"
   ]
  },
  {
   "cell_type": "code",
   "execution_count": null,
   "metadata": {},
   "outputs": [],
   "source": [
    "# return the shape of a single picture\n",
    "# there is only one rgb channel of this b-w picture\n",
    "mnist_train[0][0].shape"
   ]
  },
  {
   "cell_type": "code",
   "execution_count": null,
   "metadata": {},
   "outputs": [],
   "source": [
    "def get_fashion_mnist_labels(labels):\n",
    "    \"\"\"return the text labels of FashionMNIST dataset\"\"\"\n",
    "    text_labels = [\n",
    "        't-shirt' , 'trousers' , 'pullover' , 'dress' , 'coat' , 'sandal' , 'shirt' , 'sneaker' , 'bag' , 'ankle boot'\n",
    "    ]\n",
    "    return [text_labels[int(i)] for i in labels]\n",
    "\n",
    "def show_images(imgs , num_rows , num_cols , titles=None , scale=1.5):\n",
    "    \"\"\"plot a list of images\"\"\"\n",
    "    # scale represents for the ration of enlarge \n",
    "    figsize = (num_cols * scale , num_rows * scale)\n",
    "\n",
    "    # arrange space for pictures\n",
    "    _, axes = d2l.plt.subplots(num_rows , num_cols , figsize=figsize)\n",
    "    axes = axes.flatten()\n",
    "    \n",
    "    # pack pictures\n",
    "    for i , (ax , img) in enumerate(zip(axes , imgs)):\n",
    "        if torch.is_tensor(img):\n",
    "            # picture tensor\n",
    "            ax.imshow(img.numpy())\n",
    "        else:\n",
    "            ax.imshow(img)\n",
    "\n",
    "        # rid the outer border line\n",
    "        ax.axes.get_xaxis().set_visible(False)\n",
    "        ax.axes.get_yaxis().set_visible(False)\n",
    "        \n",
    "        # set titles\n",
    "        if titles:\n",
    "            ax.set_title(titles[i])\n",
    "\n",
    "# get a small batch of pictures and display them        \n",
    "X , y = next(iter(data.DataLoader(mnist_train , batch_size=18)))\n",
    "show_images(X.reshape(18 , 28 , 28) , 3 , 6 , titles=get_fashion_mnist_labels(y))\n",
    "\n",
    "             "
   ]
  },
  {
   "cell_type": "code",
   "execution_count": null,
   "metadata": {},
   "outputs": [],
   "source": [
    "# ready to work!\n",
    "batch_size = 256\n",
    "\n",
    "def get_dataloader_workers():\n",
    "    \"\"\"the thread of dataloader\"\"\"\n",
    "    return 4\n",
    "\n",
    "# generate a iterator   \n",
    "train_iter = data.DataLoader(mnist_train , batch_size , shuffle=True , num_workers=get_dataloader_workers())\n",
    "\n",
    "timer = d2l.Timer()\n",
    "# caculate the time of read data\n",
    "for X , y in train_iter:\n",
    "    continue\n",
    "f'{timer.stop():.2f} sec'"
   ]
  },
  {
   "cell_type": "code",
   "execution_count": null,
   "metadata": {},
   "outputs": [],
   "source": [
    "# Intergrate the components into a simple function\n",
    "def load_data_fashion_mnist(batch_size, resize=None):  #@save\n",
    "    \"\"\"download FashionMNIST dataset and load it into memory\"\"\"\n",
    "    trans = [transforms.ToTensor()]\n",
    "    if resize:\n",
    "        trans.insert(0, transforms.Resize(resize))\n",
    "    trans = transforms.Compose(trans)\n",
    "    mnist_train = torchvision.datasets.FashionMNIST(\n",
    "        root=\"../data\", train=True, transform=trans, download=True)\n",
    "    mnist_test = torchvision.datasets.FashionMNIST(\n",
    "        root=\"../data\", train=False, transform=trans, download=True)\n",
    "    return (data.DataLoader(mnist_train, batch_size, shuffle=True,\n",
    "                            num_workers=get_dataloader_workers()),\n",
    "            data.DataLoader(mnist_test, batch_size, shuffle=False,\n",
    "                            num_workers=get_dataloader_workers()))"
   ]
  }
 ],
 "metadata": {
  "kernelspec": {
   "display_name": "Python 3.10.4 64-bit",
   "language": "python",
   "name": "python3"
  },
  "language_info": {
   "codemirror_mode": {
    "name": "ipython",
    "version": 3
   },
   "file_extension": ".py",
   "mimetype": "text/x-python",
   "name": "python",
   "nbconvert_exporter": "python",
   "pygments_lexer": "ipython3",
   "version": "3.10.4"
  },
  "orig_nbformat": 4,
  "vscode": {
   "interpreter": {
    "hash": "aee8b7b246df8f9039afb4144a1f6fd8d2ca17a180786b69acc140d282b71a49"
   }
  }
 },
 "nbformat": 4,
 "nbformat_minor": 2
}
