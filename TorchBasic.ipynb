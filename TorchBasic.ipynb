{
 "cells": [
  {
   "cell_type": "code",
   "execution_count": 4,
   "metadata": {},
   "outputs": [
    {
     "name": "stdout",
     "output_type": "stream",
     "text": [
      "torch.Size([12])\n",
      "<built-in method numel of Tensor object at 0x0000017B2FED5EF8>\n",
      "tensor([[[0., 0., 0., 0.],\n",
      "         [0., 0., 0., 0.],\n",
      "         [0., 0., 0., 0.]],\n",
      "\n",
      "        [[0., 0., 0., 0.],\n",
      "         [0., 0., 0., 0.],\n",
      "         [0., 0., 0., 0.]]])\n"
     ]
    }
   ],
   "source": [
    "import torch\n",
    "\n",
    "# 生成张量\n",
    "x = torch.arange(12)\n",
    "\n",
    "# 形状\n",
    "print(x.shape)\n",
    "\n",
    "# 元素种类\n",
    "print(x.numel)\n",
    "\n",
    "# 重塑形状\n",
    "x.reshape(3 , 4)\n",
    "\n",
    "# 全零张量\n",
    "print(torch.zeros(2 , 3 , 4))\n",
    "\n"
   ]
  }
 ],
 "metadata": {
  "kernelspec": {
   "display_name": "Python 3.7.6 64-bit",
   "language": "python",
   "name": "python3"
  },
  "language_info": {
   "codemirror_mode": {
    "name": "ipython",
    "version": 3
   },
   "file_extension": ".py",
   "mimetype": "text/x-python",
   "name": "python",
   "nbconvert_exporter": "python",
   "pygments_lexer": "ipython3",
   "version": "3.7.6"
  },
  "orig_nbformat": 4,
  "vscode": {
   "interpreter": {
    "hash": "a5806b5e37cc811bf044ba5e2988deab9f2c2c503098f64f4090706569776171"
   }
  }
 },
 "nbformat": 4,
 "nbformat_minor": 2
}
