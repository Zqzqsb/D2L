{
 "cells": [
  {
   "cell_type": "markdown",
   "metadata": {},
   "source": [
    "# Weight Decay\n",
    "+ using mean square norm as a hard limitation for parameters\n",
    "    $$min \\ \\mathcal{l}(\\bf{w} , \\it{b}) \\sim \\begin{Vmatrix}\\bf{w}\\end{Vmatrix}^2 \\leq \\theta$$\n",
    "    + we do not limit the offset b.\n",
    "    + samller $\\theta$ means stronger regluar items\n"
   ]
  },
  {
   "cell_type": "markdown",
   "metadata": {},
   "source": [
    "+ using mean square norm as a soft limitation for parameters.\n",
    "    + for each $\\theta$ , find a $\\lambda$ \n",
    "    $$min \\ \\mathcal{l}(\\bf{w} , \\it{b}) + \\frac{\\lambda}{2} \\begin{Vmatrix}\\bf{w}\\end{Vmatrix}^2$$ \n",
    "    + hyper parameter $\\lambda$ controls the importance of regluar item.\n",
    "    "
   ]
  }
 ],
 "metadata": {
  "language_info": {
   "name": "python"
  },
  "orig_nbformat": 4
 },
 "nbformat": 4,
 "nbformat_minor": 2
}
